{
  "nbformat": 4,
  "nbformat_minor": 0,
  "metadata": {
    "colab": {
      "provenance": [],
      "gpuType": "T4"
    },
    "kernelspec": {
      "name": "python3",
      "display_name": "Python 3"
    },
    "language_info": {
      "name": "python"
    },
    "accelerator": "GPU",
    "gpuClass": "standard"
  },
  "cells": [
    {
      "cell_type": "code",
      "source": [
        "from google.colab import drive\n",
        "drive.mount('/content/gdrive/')"
      ],
      "metadata": {
        "colab": {
          "base_uri": "https://localhost:8080/"
        },
        "id": "Ffcdu0Uu71YG",
        "outputId": "6a2837db-faf6-4a6c-834c-f17fb5e2496e"
      },
      "execution_count": 1,
      "outputs": [
        {
          "output_type": "stream",
          "name": "stdout",
          "text": [
            "Mounted at /content/gdrive/\n"
          ]
        }
      ]
    },
    {
      "cell_type": "code",
      "source": [
        "import os\n",
        "import numpy as np\n",
        "import pandas as pd\n",
        "import seaborn as sns\n",
        "import matplotlib.pyplot as plt\n",
        "from PIL import Image\n",
        "from sklearn.metrics import classification_report, confusion_matrix, accuracy_score, f1_score"
      ],
      "metadata": {
        "id": "3tcf9Uzf73dg"
      },
      "execution_count": 2,
      "outputs": []
    },
    {
      "cell_type": "code",
      "source": [
        "from tensorflow.keras.preprocessing.image import ImageDataGenerator"
      ],
      "metadata": {
        "id": "rV0KEo3F8scT"
      },
      "execution_count": 3,
      "outputs": []
    },
    {
      "cell_type": "code",
      "source": [
        "from keras.layers import Dense, Flatten\n",
        "from keras import Model"
      ],
      "metadata": {
        "id": "ZB0g8dcPRSAq"
      },
      "execution_count": 4,
      "outputs": []
    },
    {
      "cell_type": "code",
      "source": [
        "from keras.applications.vgg16 import VGG16, preprocess_input"
      ],
      "metadata": {
        "id": "6eogcTWGRD-Y"
      },
      "execution_count": 5,
      "outputs": []
    },
    {
      "cell_type": "code",
      "source": [
        "from keras.applications.xception import Xception, preprocess_input"
      ],
      "metadata": {
        "id": "SQE7VEg1TvQF"
      },
      "execution_count": 6,
      "outputs": []
    },
    {
      "cell_type": "code",
      "source": [
        "train_datagen =  ImageDataGenerator(\n",
        "    validation_split=0.15,\n",
        "    rotation_range=10,\n",
        "    width_shift_range=0.1,\n",
        "    height_shift_range=0.1,\n",
        "    preprocessing_function=preprocess_input,\n",
        "    shear_range=0.1,\n",
        "    zoom_range=0.2,\n",
        "    horizontal_flip=True)\n",
        "\n",
        "test_datagen = ImageDataGenerator(preprocessing_function=preprocess_input)\n",
        "\n",
        "train_generator = train_datagen.flow_from_directory(\n",
        "        f'gdrive/MyDrive/Léna/cats_and_dogs/train',\n",
        "        target_size=(300, 300),\n",
        "        batch_size=16,\n",
        "        shuffle=True)\n",
        "\n",
        "test_generator = test_datagen.flow_from_directory(\n",
        "        f'gdrive/MyDrive/Léna/cats_and_dogs/test',\n",
        "        target_size=(300, 300),\n",
        "        batch_size=16,\n",
        "        shuffle=False)"
      ],
      "metadata": {
        "colab": {
          "base_uri": "https://localhost:8080/"
        },
        "id": "1pGEQP7DR1Lg",
        "outputId": "05a9d4b2-61f0-417a-ff72-400a833ef945"
      },
      "execution_count": 7,
      "outputs": [
        {
          "output_type": "stream",
          "name": "stdout",
          "text": [
            "Found 557 images belonging to 2 classes.\n",
            "Found 140 images belonging to 2 classes.\n"
          ]
        }
      ]
    },
    {
      "cell_type": "markdown",
      "source": [
        "# First Model"
      ],
      "metadata": {
        "id": "_Mj5VvPbURi0"
      }
    },
    {
      "cell_type": "code",
      "source": [
        "base_model1 = VGG16(weights='imagenet', include_top=False, input_shape=(300, 300, 3))\n",
        "for layer in base_model1.layers:\n",
        "    layer.trainable = False\n",
        "x = base_model1.output\n",
        "x = Flatten()(x)\n",
        "x = Dense(100, activation='relu')(x)\n",
        "predictions = Dense(2, activation='softmax', kernel_initializer='random_uniform')(x)\n",
        "\n",
        "model1 = Model(inputs=base_model1.input, outputs=predictions)\n",
        "model1.compile(optimizer='adam', loss='categorical_crossentropy', metrics=['accuracy'])"
      ],
      "metadata": {
        "id": "_9hsWNMZHLyY"
      },
      "execution_count": 8,
      "outputs": []
    },
    {
      "cell_type": "code",
      "source": [
        "history = model1.fit(\n",
        "    train_generator,\n",
        "    epochs=5\n",
        ")"
      ],
      "metadata": {
        "colab": {
          "base_uri": "https://localhost:8080/"
        },
        "id": "UIyoQ1SxJYLp",
        "outputId": "47bfd109-a067-43f4-eec8-57c235085938"
      },
      "execution_count": 9,
      "outputs": [
        {
          "output_type": "stream",
          "name": "stdout",
          "text": [
            "Epoch 1/5\n",
            "35/35 [==============================] - 41s 900ms/step - loss: 0.5432 - accuracy: 0.7397\n",
            "Epoch 2/5\n",
            "35/35 [==============================] - 24s 671ms/step - loss: 0.2100 - accuracy: 0.9084\n",
            "Epoch 3/5\n",
            "35/35 [==============================] - 22s 611ms/step - loss: 0.1340 - accuracy: 0.9479\n",
            "Epoch 4/5\n",
            "35/35 [==============================] - 22s 628ms/step - loss: 0.1273 - accuracy: 0.9533\n",
            "Epoch 5/5\n",
            "35/35 [==============================] - 23s 652ms/step - loss: 0.1088 - accuracy: 0.9551\n"
          ]
        }
      ]
    },
    {
      "cell_type": "code",
      "source": [
        "plt.plot(history.history['accuracy'])\n",
        "plt.plot(history.history['loss'])\n",
        "plt.title('model accuracy')\n",
        "plt.ylabel('accuracy')\n",
        "plt.xlabel('epoch')\n",
        "plt.legend(['train', \"loss\"], loc='upper left')\n",
        "plt.show()"
      ],
      "metadata": {
        "colab": {
          "base_uri": "https://localhost:8080/",
          "height": 472
        },
        "id": "oDChGWNMSgZl",
        "outputId": "2cedecdb-c213-4441-f43e-052df00b0765"
      },
      "execution_count": 10,
      "outputs": [
        {
          "output_type": "display_data",
          "data": {
            "text/plain": [
              "<Figure size 640x480 with 1 Axes>"
            ],
            "image/png": "[encoded data removed]"
          },
          "metadata": {}
        }
      ]
    },
    {
      "cell_type": "code",
      "source": [
        "y_pred = model1.predict(test_generator)\n",
        "y_pred.shape"
      ],
      "metadata": {
        "colab": {
          "base_uri": "https://localhost:8080/"
        },
        "id": "w5emB0vLKQQf",
        "outputId": "54c222b8-3225-4f9e-f8e3-d518f188b3be"
      },
      "execution_count": 11,
      "outputs": [
        {
          "output_type": "stream",
          "name": "stdout",
          "text": [
            "9/9 [==============================] - 7s 780ms/step\n"
          ]
        },
        {
          "output_type": "execute_result",
          "data": {
            "text/plain": [
              "(140, 2)"
            ]
          },
          "metadata": {},
          "execution_count": 11
        }
      ]
    },
    {
      "cell_type": "code",
      "source": [
        "preds = [1 if pred[0] < 0.5 else 0 for pred in y_pred]"
      ],
      "metadata": {
        "id": "bESNCwE6KUnE"
      },
      "execution_count": 12,
      "outputs": []
    },
    {
      "cell_type": "code",
      "source": [
        "print(classification_report(test_generator.labels, preds))"
      ],
      "metadata": {
        "colab": {
          "base_uri": "https://localhost:8080/"
        },
        "id": "QONIy9r0S-wV",
        "outputId": "87e9b3ca-3b49-44e7-beea-63353d71a0fe"
      },
      "execution_count": 13,
      "outputs": [
        {
          "output_type": "stream",
          "name": "stdout",
          "text": [
            "              precision    recall  f1-score   support\n",
            "\n",
            "           0       0.86      0.81      0.84        70\n",
            "           1       0.82      0.87      0.85        70\n",
            "\n",
            "    accuracy                           0.84       140\n",
            "   macro avg       0.84      0.84      0.84       140\n",
            "weighted avg       0.84      0.84      0.84       140\n",
            "\n"
          ]
        }
      ]
    },
    {
      "cell_type": "code",
      "source": [
        "print(accuracy_score(test_generator.labels, preds))\n",
        "print(f1_score(test_generator.labels, preds))"
      ],
      "metadata": {
        "colab": {
          "base_uri": "https://localhost:8080/"
        },
        "id": "_4exI04_TK9L",
        "outputId": "e705f4f5-8077-4a1e-ccee-aab22965b39a"
      },
      "execution_count": 14,
      "outputs": [
        {
          "output_type": "stream",
          "name": "stdout",
          "text": [
            "0.8428571428571429\n",
            "0.8472222222222222\n"
          ]
        }
      ]
    },
    {
      "cell_type": "code",
      "source": [
        "cm = confusion_matrix(test_generator.labels, preds)\n",
        "sns.heatmap(cm, cmap=\"Blues\", annot=True, fmt=\"g\")"
      ],
      "metadata": {
        "colab": {
          "base_uri": "https://localhost:8080/",
          "height": 447
        },
        "id": "9MOWNMXRTfW1",
        "outputId": "ebdc773d-de1e-4517-83ba-a2d40164a20e"
      },
      "execution_count": 15,
      "outputs": [
        {
          "output_type": "execute_result",
          "data": {
            "text/plain": [
              "<Axes: >"
            ]
          },
          "metadata": {},
          "execution_count": 15
        },
        {
          "output_type": "display_data",
          "data": {
            "text/plain": [
              "<Figure size 640x480 with 2 Axes>"
            ],
            "image/png": "[encoded data removed]"
          },
          "metadata": {}
        }
      ]
    },
    {
      "cell_type": "markdown",
      "source": [
        "# Second Model"
      ],
      "metadata": {
        "id": "mrbGPBZ7UM-X"
      }
    },
    {
      "cell_type": "code",
      "source": [
        "base_model2 = Xception(weights='imagenet', include_top=False, input_shape=(300, 300, 3))\n",
        "for layer in base_model2.layers:\n",
        "    layer.trainable = False\n",
        "x = base_model2.output\n",
        "x = Flatten()(x)\n",
        "x = Dense(100, activation='relu')(x)\n",
        "predictions = Dense(2, activation='softmax', kernel_initializer='random_uniform')(x)\n",
        "\n",
        "model2 = Model(inputs=base_model2.input, outputs=predictions)\n",
        "model2.compile(optimizer='adam', loss='categorical_crossentropy', metrics=['accuracy'])"
      ],
      "metadata": {
        "id": "rDTIFbj_UDfE"
      },
      "execution_count": 16,
      "outputs": []
    },
    {
      "cell_type": "code",
      "source": [
        "history = model2.fit(\n",
        "    train_generator,\n",
        "    epochs=5\n",
        ")"
      ],
      "metadata": {
        "colab": {
          "base_uri": "https://localhost:8080/"
        },
        "outputId": "300974ea-09a3-4d07-aa9c-a7fc6b5e52cd",
        "id": "Vi_hxT1wUDfN"
      },
      "execution_count": 17,
      "outputs": [
        {
          "output_type": "stream",
          "name": "stdout",
          "text": [
            "Epoch 1/5\n",
            "35/35 [==============================] - 29s 646ms/step - loss: 0.5544 - accuracy: 0.9156\n",
            "Epoch 2/5\n",
            "35/35 [==============================] - 23s 670ms/step - loss: 0.1301 - accuracy: 0.9749\n",
            "Epoch 3/5\n",
            "35/35 [==============================] - 23s 648ms/step - loss: 0.0739 - accuracy: 0.9928\n",
            "Epoch 4/5\n",
            "35/35 [==============================] - 22s 642ms/step - loss: 0.0084 - accuracy: 0.9982\n",
            "Epoch 5/5\n",
            "35/35 [==============================] - 28s 821ms/step - loss: 0.0209 - accuracy: 0.9910\n"
          ]
        }
      ]
    },
    {
      "cell_type": "code",
      "source": [
        "plt.plot(history.history['accuracy'])\n",
        "plt.plot(history.history['loss'])\n",
        "plt.title('model accuracy')\n",
        "plt.ylabel('accuracy')\n",
        "plt.xlabel('epoch')\n",
        "plt.legend(['train', \"loss\"], loc='upper left')\n",
        "plt.show()"
      ],
      "metadata": {
        "colab": {
          "base_uri": "https://localhost:8080/",
          "height": 472
        },
        "outputId": "b8a20838-f0b8-469d-9b5d-f38c719c7733",
        "id": "UjTbqizaUDfO"
      },
      "execution_count": 18,
      "outputs": [
        {
          "output_type": "display_data",
          "data": {
            "text/plain": [
              "<Figure size 640x480 with 1 Axes>"
            ],
            "image/png": "[encoded data removed]"
          },
          "metadata": {}
        }
      ]
    },
    {
      "cell_type": "code",
      "source": [
        "y_pred = model2.predict(test_generator)\n",
        "y_pred.shape"
      ],
      "metadata": {
        "colab": {
          "base_uri": "https://localhost:8080/"
        },
        "outputId": "9c7a8c5f-5114-4a86-9d55-0c098d767e07",
        "id": "zvlZUp3NUDfO"
      },
      "execution_count": 19,
      "outputs": [
        {
          "output_type": "stream",
          "name": "stdout",
          "text": [
            "9/9 [==============================] - 5s 544ms/step\n"
          ]
        },
        {
          "output_type": "execute_result",
          "data": {
            "text/plain": [
              "(140, 2)"
            ]
          },
          "metadata": {},
          "execution_count": 19
        }
      ]
    },
    {
      "cell_type": "code",
      "source": [
        "preds = [1 if pred[0] < 0.5 else 0 for pred in y_pred]"
      ],
      "metadata": {
        "id": "1lbBgX82UDfO"
      },
      "execution_count": 20,
      "outputs": []
    },
    {
      "cell_type": "code",
      "source": [
        "print(classification_report(test_generator.labels, preds))"
      ],
      "metadata": {
        "colab": {
          "base_uri": "https://localhost:8080/"
        },
        "outputId": "a3d120d0-2cc1-4162-944c-bff610556020",
        "id": "dCFf2TX8UDfO"
      },
      "execution_count": 21,
      "outputs": [
        {
          "output_type": "stream",
          "name": "stdout",
          "text": [
            "              precision    recall  f1-score   support\n",
            "\n",
            "           0       1.00      0.96      0.98        70\n",
            "           1       0.96      1.00      0.98        70\n",
            "\n",
            "    accuracy                           0.98       140\n",
            "   macro avg       0.98      0.98      0.98       140\n",
            "weighted avg       0.98      0.98      0.98       140\n",
            "\n"
          ]
        }
      ]
    },
    {
      "cell_type": "code",
      "source": [
        "print(accuracy_score(test_generator.labels, preds))\n",
        "print(f1_score(test_generator.labels, preds))"
      ],
      "metadata": {
        "colab": {
          "base_uri": "https://localhost:8080/"
        },
        "outputId": "b73b503e-5a31-4c4f-d232-460f90f4d67c",
        "id": "yscwyqBkUDfP"
      },
      "execution_count": 22,
      "outputs": [
        {
          "output_type": "stream",
          "name": "stdout",
          "text": [
            "0.9785714285714285\n",
            "0.9790209790209791\n"
          ]
        }
      ]
    },
    {
      "cell_type": "code",
      "source": [
        "cm = confusion_matrix(test_generator.labels, preds)\n",
        "sns.heatmap(cm, cmap=\"Blues\", annot=True, fmt=\"g\")"
      ],
      "metadata": {
        "colab": {
          "base_uri": "https://localhost:8080/",
          "height": 452
        },
        "outputId": "d1175650-7b9f-41e6-c42d-c6359f9042a2",
        "id": "ZENO1Q6GUDfP"
      },
      "execution_count": 23,
      "outputs": [
        {
          "output_type": "execute_result",
          "data": {
            "text/plain": [
              "<Axes: >"
            ]
          },
          "metadata": {},
          "execution_count": 23
        },
        {
          "output_type": "display_data",
          "data": {
            "text/plain": [
              "<Figure size 640x480 with 2 Axes>"
            ],
            "image/png": "[encoded data removed]"
          },
          "metadata": {}
        }
      ]
    },
    {
      "cell_type": "markdown",
      "source": [
        "# Comparaison des résultats\n",
        "\n",
        "Le 2ème modèle (Xception) obtient de meilleurs résultats :\n",
        "- Meilleure accuracy (0.9786)\n",
        "- Meilleur F1 score (0.9790)\n",
        "- Meilleurs taux de faux positifs et faux négatifs"
      ],
      "metadata": {
        "id": "xBOgUHHWWMME"
      }
    }
  ]
}